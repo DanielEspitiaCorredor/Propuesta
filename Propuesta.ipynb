{
 "cells": [
  {
   "cell_type": "markdown",
   "metadata": {},
   "source": [
    "# Posicionamiento de productos en blogs.\n",
    "\n",
    "En la actualidad, el uso del internet ha cambiado completamente la forma de hacer negocios. Hoy en dia es posible llegar a miles de personas a traves de medios digitales como redes sociales, blogs, plataformas digitales, foros, etc. Es por esto que en los ultimos años, la publicidad en internet se ha incrementado con el objetivo de establecer nuevas estrategias que permitan atraer clientes potenciales en un mercado cada vez mas competitivo.\n",
    "\n",
    "Por medio de esta presentación, podrá ver como su marca se puede posicionar en blogs, en donde muchas personas a diario invierten gran cantidad de tiempo leyendo y escribiendo.\n",
    "\n",
    "El siguiente analisis se realiza con información de entradas a blogs durante \n",
    "\n",
    "\n",
    "## ¿Tiene alguna ventaja posicionar una marca en un blog?\n",
    "\n",
    "Sí, como se observa en la siguiente grafica, entre 1999 y 2004 las publicaciones de blogs se incrementaron considerablemente, teniendo que para el año 2004 se realizaron 353179 publicaciones. Esto indica que el flujo de personas en estas paginas aumentó en tan solo 6 años, lo que indica que existe un publico adecuado para posicionar su marca. \n",
    "<img src=\"publicaciones_por_anio.png\" alt=\"Drawing\" style=\"width: 600px height: 500px;\"/>"
   ]
  },
  {
   "cell_type": "markdown",
   "metadata": {},
   "source": [
    "## ¿Que personas utilizan la plataforma?\n",
    "\n",
    "Las personas que utilizan los blogs tienen un rango de edad entre 10 y 25 años, sin embargo, los que mas realizan publicaciones tienen edades entre los 15 y 30 años. Es importante resaltar que su marca podría tener impacto en jovenes y adultos, siendo el 70% de las personas que escribieron un blog entre 1999 y 2004.   \n",
    "\n",
    "\n",
    "<img src=\"publicaciones_por_edad.png\" alt=\"Drawing\" style=\"width: 600px height: 500px;\"/>\n"
   ]
  },
  {
   "cell_type": "markdown",
   "metadata": {},
   "source": [
    "## ¿Porque debería utilizar los blogs para posicionar mi marca?\n",
    "\n",
    "En los blogs es posible obtener información relevante sobre los intereses y caracteristicas de la población a la que va dirigida la marca, por lo que es importante analizar la información que estos brindan.\n",
    "\n",
    "\n",
    "## ¿Que intereses tienen las personas que utilizan los blogs?\n",
    "\n",
    "El posicionamiento de una marca requiere tener bien definido el publico al que va dirigido. En este caso se presenta una tendencia hacia la publicación de blogs de categoria estudiantil, con una participacion mayor al 35% de los blogs publicados. Esto representa una caracteristica importante para marcas que tengan un enfoque de negocio academico o juvenil.\n",
    "\n",
    "Otras categorias que marcan la tendencia y que son significativas para la posicion de su marca son inversion bancaria, sin animo de lucro, temas bancarios, ingenieria, ciencia, entre otros.\n",
    "\n",
    "<img src=\"genero_vs_tema.png\" alt=\"Drawing\" style=\"width: 600px height: 500px;\"/>\n",
    "\n",
    "\n",
    "Para las publicaciones segun el genero, se evidencia que para hombres y mujeres son similares por lo que su marca podría enfocarse a ambos generos sin problema. Sin embargo, dependiendo de la marca que desee posicionar es recomendable analizar la categoria en la que cada genero hace sus publicaciones. Esto con el objetivo de obtener una mayor certeza del publico al que se debe dirigir.\n",
    "\n",
    "<img src=\"publicaciones_por_genero.png\" alt=\"Drawing\" style=\"width: 600px height: 500px;\"/>\n",
    "\n",
    "## ¿Que otra información relevante es posible obtener?\n",
    "\n",
    "No es posible establecer una cantidad de conclusiones que se pueden obtener con la información, sin embargo, es posible encontrar muchas tendencias que pueden ser utiles para posicionar nuestra marca.\n",
    "\n",
    "<img src=\"categoria_vs_edad.png\" alt=\"Drawing\" style=\"width: 600px height: 500px;\"/>\n",
    "\n",
    "En la imagen anterior se confirma la tendencia que se había encontrado en analisis anteriores. La población mas activa tiene entre 10 y 20 años y se interesan mas por temas academicos y y de temas relacionados a la categoria sin animo de lucro. Esta ultima categoría puede ser util para posicionar su marca ya que en esta categoria se encuentran personas de todas las edades."
   ]
  },
  {
   "cell_type": "markdown",
   "metadata": {},
   "source": [
    "Realizado por: Daniel Eduardo Espitia Corredor"
   ]
  }
 ],
 "metadata": {
  "kernelspec": {
   "display_name": "Python (python_venv)",
   "language": "python",
   "name": "python_venv"
  },
  "language_info": {
   "codemirror_mode": {
    "name": "ipython",
    "version": 3
   },
   "file_extension": ".py",
   "mimetype": "text/x-python",
   "name": "python",
   "nbconvert_exporter": "python",
   "pygments_lexer": "ipython3",
   "version": "3.7.2"
  }
 },
 "nbformat": 4,
 "nbformat_minor": 2
}
